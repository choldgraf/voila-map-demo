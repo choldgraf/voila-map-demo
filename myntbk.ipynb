{
 "cells": [
  {
   "cell_type": "code",
   "execution_count": 64,
   "metadata": {},
   "outputs": [],
   "source": [
    "import geopandas as gpd\n",
    "import pandas as pd\n",
    "import matplotlib.pyplot as plt\n",
    "from ipywidgets import interact\n",
    "%matplotlib inline"
   ]
  },
  {
   "cell_type": "code",
   "execution_count": 21,
   "metadata": {},
   "outputs": [],
   "source": [
    "# Load data\n",
    "votes = pd.read_excel('./data/LAUSD_SPECIAL-_MEASURE_EE_06-04-19_by_Precinct_4041-5928.xls', skiprows=2)\n",
    "precincts = gpd.read_file('shapes/RRCC_PRECINCTS_ELECTION.shp')"
   ]
  },
  {
   "cell_type": "code",
   "execution_count": 68,
   "metadata": {},
   "outputs": [],
   "source": [
    "# Munge data\n",
    "data = precincts.merge(votes, left_on=\"Precinct\", right_on=\"PRECINCT\")"
   ]
  },
  {
   "cell_type": "markdown",
   "metadata": {},
   "source": [
    "# LA USD Votes\n",
    "\n",
    "The following widget displays the votes by precinct for the recent LA USD\n",
    "ballot measure. Click the drop-down box to see the distributions of \"yes\" and\n",
    "\"no\" votes. You can also look at the number of ballots cast by precinct to \n",
    "see which had the most impact on the final vote."
   ]
  },
  {
   "cell_type": "code",
   "execution_count": 90,
   "metadata": {},
   "outputs": [
    {
     "data": {
      "application/vnd.jupyter.widget-view+json": {
       "model_id": "45f113e6489d45739731d78220e106b7",
       "version_major": 2,
       "version_minor": 0
      },
      "text/plain": [
       "interactive(children=(Dropdown(description='field', options=('YES', 'NO', 'BALLOTS CAST'), value='YES'), Outpu…"
      ]
     },
     "metadata": {},
     "output_type": "display_data"
    },
    {
     "data": {
      "text/plain": [
       "<function __main__.update_map(field)>"
      ]
     },
     "execution_count": 90,
     "metadata": {},
     "output_type": "execute_result"
    }
   ],
   "source": [
    "# Plot the map\n",
    "def update_map(field):\n",
    "    fig, ax = plt.subplots(figsize=(4, 8))\n",
    "    cmaps = {\"YES\": plt.cm.Blues, \"NO\": plt.cm.Reds, \"BALLOTS CAST\": plt.cm.Purples}\n",
    "    data.plot(ax=ax, column=field, cmap=cmaps[field])\n",
    "    ax.set_axis_off()\n",
    "    ax.set(ylim=[1700000, None])\n",
    "\n",
    "interact(update_map, field=[\"YES\", \"NO\", \"BALLOTS CAST\"])"
   ]
  }
 ],
 "metadata": {
  "kernelspec": {
   "display_name": "Python 3",
   "language": "python",
   "name": "python3"
  },
  "language_info": {
   "codemirror_mode": {
    "name": "ipython",
    "version": 3
   },
   "file_extension": ".py",
   "mimetype": "text/x-python",
   "name": "python",
   "nbconvert_exporter": "python",
   "pygments_lexer": "ipython3",
   "version": "3.6.5"
  }
 },
 "nbformat": 4,
 "nbformat_minor": 2
}
